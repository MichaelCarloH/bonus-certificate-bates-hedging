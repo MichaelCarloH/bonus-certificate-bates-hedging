{
 "cells": [
  {
   "cell_type": "markdown",
   "id": "989acc93",
   "metadata": {},
   "source": [
    "# A Jupyter Notebook to Perform Pricing Using the Bates Formula\n",
    "This notebook demonstrates the implementation of the Bates formula for pricing Bonus Certificates. It includes steps for importing libraries, defining the formula, setting parameters, simulating asset price paths, calculating option prices, and visualizing results."
   ]
  },
  {
   "cell_type": "code",
   "execution_count": null,
   "id": "0e30234c",
   "metadata": {},
   "outputs": [],
   "source": []
  },
  {
   "cell_type": "markdown",
   "id": "301d25c1",
   "metadata": {},
   "source": [
    "## Import Required Libraries\n",
    "Import necessary libraries such as NumPy, SciPy, and Matplotlib for numerical computations and visualizations."
   ]
  },
  {
   "cell_type": "code",
   "execution_count": null,
   "id": "1b0e84bf",
   "metadata": {},
   "outputs": [],
   "source": [
    "# Import Required Libraries\n",
    "import numpy as np\n",
    "from scipy.stats import norm\n",
    "import matplotlib.pyplot as plt"
   ]
  },
  {
   "cell_type": "markdown",
   "id": "ef811954",
   "metadata": {},
   "source": [
    "## Define the Bates Formula\n",
    "Implement the Bates formula, including components for continuous volatility, jump intensity, and jump size distribution."
   ]
  },
  {
   "cell_type": "code",
   "execution_count": null,
   "id": "81c61b11",
   "metadata": {},
   "outputs": [],
   "source": [
    "# Define the Bates Formula\n",
    "def bates_formula(S, K, T, r, sigma, jump_intensity, jump_mean, jump_std):\n",
    "    \"\"\"\n",
    "    Bates formula for option pricing.\n",
    "\n",
    "    Parameters:\n",
    "    S: float - Current asset price\n",
    "    K: float - Strike price\n",
    "    T: float - Time to maturity (in years)\n",
    "    r: float - Risk-free rate\n",
    "    sigma: float - Volatility of the underlying asset\n",
    "    jump_intensity: float - Intensity (frequency) of jumps\n",
    "    jump_mean: float - Mean size of jumps\n",
    "    jump_std: float - Standard deviation of jump sizes\n",
    "\n",
    "    Returns:\n",
    "    float - Option price\n",
    "    \"\"\"\n",
    "    # Placeholder for Bates formula implementation\n",
    "    # Combine Black-Scholes model with jump diffusion process\n",
    "    pass"
   ]
  },
  {
   "cell_type": "markdown",
   "id": "04ca0e52",
   "metadata": {},
   "source": [
    "## Set Model Parameters\n",
    "Define the parameters for the Bates model, such as volatility, jump intensity, and risk-free rate."
   ]
  },
  {
   "cell_type": "code",
   "execution_count": null,
   "id": "6fbad501",
   "metadata": {},
   "outputs": [],
   "source": [
    "# Set Model Parameters\n",
    "S = 100  # Current asset price\n",
    "K = 110  # Strike price\n",
    "T = 1    # Time to maturity (1 year)\n",
    "r = 0.05 # Risk-free rate\n",
    "sigma = 0.2  # Volatility\n",
    "jump_intensity = 0.1  # Jump intensity\n",
    "jump_mean = 0.02  # Mean jump size\n",
    "jump_std = 0.05  # Standard deviation of jump sizes"
   ]
  },
  {
   "cell_type": "markdown",
   "id": "25324205",
   "metadata": {},
   "source": [
    "## Simulate Asset Price Paths\n",
    "Use Monte Carlo simulation to generate asset price paths incorporating both continuous and jump components."
   ]
  },
  {
   "cell_type": "code",
   "execution_count": null,
   "id": "32727ab0",
   "metadata": {},
   "outputs": [],
   "source": [
    "# Simulate Asset Price Paths\n",
    "def simulate_asset_paths(S, T, r, sigma, jump_intensity, jump_mean, jump_std, n_paths=10000, n_steps=252):\n",
    "    \"\"\"\n",
    "    Simulate asset price paths using Monte Carlo with jumps.\n",
    "\n",
    "    Parameters:\n",
    "    S: float - Initial asset price\n",
    "    T: float - Time to maturity\n",
    "    r: float - Risk-free rate\n",
    "    sigma: float - Volatility\n",
    "    jump_intensity: float - Jump intensity\n",
    "    jump_mean: float - Mean jump size\n",
    "    jump_std: float - Standard deviation of jump sizes\n",
    "    n_paths: int - Number of simulation paths\n",
    "    n_steps: int - Number of time steps\n",
    "\n",
    "    Returns:\n",
    "    np.ndarray - Simulated asset price paths\n",
    "    \"\"\"\n",
    "    dt = T / n_steps\n",
    "    paths = np.zeros((n_paths, n_steps + 1))\n",
    "    paths[:, 0] = S\n",
    "\n",
    "    for t in range(1, n_steps + 1):\n",
    "        Z = np.random.normal(0, 1, n_paths)\n",
    "        J = np.random.poisson(jump_intensity * dt, n_paths)\n",
    "        jump_sizes = np.random.normal(jump_mean, jump_std, n_paths) * J\n",
    "        paths[:, t] = paths[:, t - 1] * np.exp((r - 0.5 * sigma**2) * dt + sigma * np.sqrt(dt) * Z + jump_sizes)\n",
    "\n",
    "    return paths"
   ]
  },
  {
   "cell_type": "markdown",
   "id": "c67da8e9",
   "metadata": {},
   "source": [
    "## Calculate Option Prices\n",
    "Compute the prices of options or Bonus Certificates using the simulated asset price paths and the Bates formula."
   ]
  },
  {
   "cell_type": "code",
   "execution_count": null,
   "id": "b12f58cb",
   "metadata": {},
   "outputs": [],
   "source": [
    "# Calculate Option Prices\n",
    "def calculate_option_price(paths, K, r, T):\n",
    "    \"\"\"\n",
    "    Calculate option price using simulated paths.\n",
    "\n",
    "    Parameters:\n",
    "    paths: np.ndarray - Simulated asset price paths\n",
    "    K: float - Strike price\n",
    "    r: float - Risk-free rate\n",
    "    T: float - Time to maturity\n",
    "\n",
    "    Returns:\n",
    "    float - Option price\n",
    "    \"\"\"\n",
    "    payoffs = np.maximum(paths[:, -1] - K, 0)\n",
    "    option_price = np.exp(-r * T) * np.mean(payoffs)\n",
    "    return option_price\n",
    "\n",
    "# Simulate paths and calculate option price\n",
    "paths = simulate_asset_paths(S, T, r, sigma, jump_intensity, jump_mean, jump_std)\n",
    "option_price = calculate_option_price(paths, K, r, T)\n",
    "print(f\"Option Price: {option_price}\")"
   ]
  },
  {
   "cell_type": "markdown",
   "id": "6e8b45c3",
   "metadata": {},
   "source": [
    "## Visualize Results\n",
    "Create visualizations to analyze the simulated price paths and the resulting option prices."
   ]
  },
  {
   "cell_type": "code",
   "execution_count": null,
   "id": "263676ce",
   "metadata": {},
   "outputs": [],
   "source": [
    "# Visualize Results\n",
    "plt.figure(figsize=(10, 6))\n",
    "for i in range(10):  # Plot 10 sample paths\n",
    "    plt.plot(paths[i, :], lw=0.8)\n",
    "plt.title(\"Simulated Asset Price Paths\")\n",
    "plt.xlabel(\"Time Steps\")\n",
    "plt.ylabel(\"Asset Price\")\n",
    "plt.grid(True)\n",
    "plt.show()"
   ]
  }
 ],
 "metadata": {
  "kernelspec": {
   "display_name": ".venv",
   "language": "python",
   "name": "python3"
  },
  "language_info": {
   "name": "python",
   "version": "3.13.2"
  }
 },
 "nbformat": 4,
 "nbformat_minor": 5
}
